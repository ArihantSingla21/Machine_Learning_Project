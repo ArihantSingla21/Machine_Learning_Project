{
 "cells": [
  {
   "cell_type": "markdown",
   "metadata": {},
   "source": [
    "## STUDENT PERFORMANCE INDICATOR APPLICATION EXPERIMENT \n",
    "scope of the project is to predict the performance of the student based on the given features "
   ]
  }
 ],
 "metadata": {
  "language_info": {
   "name": "python"
  }
 },
 "nbformat": 4,
 "nbformat_minor": 2
}
